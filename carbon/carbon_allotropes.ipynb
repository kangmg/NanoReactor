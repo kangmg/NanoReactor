{
 "cells": [
  {
   "cell_type": "code",
   "execution_count": 2,
   "metadata": {},
   "outputs": [
    {
     "name": "stderr",
     "output_type": "stream",
     "text": [
      "/home/zeus/miniconda3/envs/cloudspace/lib/python3.10/site-packages/torchani-0.1.dev435+gd8bb081-py3.10-linux-x86_64.egg/torchani/__init__.py:61: UserWarning: Dependency not satisfied, torchani.data will not be available\n",
      "  warnings.warn(\"Dependency not satisfied, torchani.data will not be available\")\n"
     ]
    }
   ],
   "source": [
    "from nanoreactor import initial_system_builder, NanoReactor\n",
    "from ase.optimize import FIRE"
   ]
  },
  {
   "cell_type": "code",
   "execution_count": 3,
   "metadata": {},
   "outputs": [],
   "source": [
    "system_builder_param = {\n",
    "    'concentration': 3.52, # g/cc \n",
    "    'min_distance_Ang': 1.7, # Angstrom\n",
    "    'num_atoms': 3200,\n",
    "    'max_trials': 10000,\n",
    "    'save': True,\n",
    "    'display_system': False,\n",
    "    'filename': 'auto' # xyz filepath e.g. './system.xyz'\n",
    "}\n",
    "\n",
    "initial_system_builder(**system_builder_param)"
   ]
  },
  {
   "cell_type": "code",
   "execution_count": 4,
   "metadata": {},
   "outputs": [
    {
     "name": "stdout",
     "output_type": "stream",
     "text": [
      "/system/conda/miniconda3/envs/cloudspace/lib/python3.10/site-packages/torchani-0.1.dev435+gd8bb081-py3.10-linux-x86_64.egg/torchani/resources/\n"
     ]
    }
   ],
   "source": [
    "params = {\n",
    "    'concentration': 3.52, # g/cc\n",
    "    'system_filepath': 'box_3.52[gcc-1]_points_3200[atoms].xyz',\n",
    "    'temperature_K': 2500,\n",
    "    'time_step_fs': 0.5,\n",
    "    #'total_steps': 10**7,\n",
    "    'total_steps': 2 * 10**6,\n",
    "    'modeltype': 'ANI1xnr',\n",
    "    'friction': 0.01,\n",
    "    'logfile': 'auto', # '-' for stdout\n",
    "    'loginterval': 100,\n",
    "    'trajfile': 'auto',\n",
    "    'trajinterval': 100,\n",
    "    'logger': 'default',\n",
    "    #'optimizer': FIRE,\n",
    "    'optimize_geometry':False\n",
    "    }\n",
    "\n",
    "simulation_box = NanoReactor(**params)"
   ]
  },
  {
   "cell_type": "code",
   "execution_count": 5,
   "metadata": {},
   "outputs": [],
   "source": [
    "assert params['concentration'] == system_builder_param['concentration'], 'Re-check the concentration setting. It is very important.'"
   ]
  },
  {
   "cell_type": "code",
   "execution_count": 6,
   "metadata": {},
   "outputs": [
    {
     "name": "stdout",
     "output_type": "stream",
     "text": [
      "\n",
      "    ======================================================\n",
      "    System Info.\n",
      "    ------------------------------------------------------\n",
      "    N_atoms     : 3200\n",
      "    Conc.       : 3.52  g/cc\n",
      "    Box Len.    : 2.626  nm\n",
      "    PBC         : [True, True, True]\n",
      "    ------------------------------------------------------\n",
      "    \n",
      "    ======================================================\n",
      "    Simulation Info.\n",
      "    ------------------------------------------------------\n",
      "    MLP model   : ANI1xnr\n",
      "    Temperature : 2500  K\n",
      "    Time Step   : 0.5  fs\n",
      "    Total Steps : 2000000 times\n",
      "    Sim. Time   : 1.000 ns\n",
      "    friction    : 0.01 1/fs\n",
      "    Device      : cuda\n",
      "    ------------------------------------------------------\n",
      "    \n",
      "    ======================================================\n",
      "    Results\n",
      "    ------------------------------------------------------\n",
      "    log interval: 100 steps\n",
      "    trj interval: 100 steps\n",
      "    logfile     : conc_3.52_friction_0.01_temperature_2500.log\n",
      "    trajfile    : conc_3.52_friction_0.01_temperature_2500.traj\n",
      "    ------------------------------------------------------\n"
     ]
    }
   ],
   "source": [
    "print(simulation_box.simulation_info())"
   ]
  },
  {
   "cell_type": "code",
   "execution_count": null,
   "metadata": {},
   "outputs": [],
   "source": [
    "# simulation_box.run_simulation()"
   ]
  },
  {
   "cell_type": "code",
   "execution_count": null,
   "metadata": {},
   "outputs": [],
   "source": [
    "simulation_box.continue_simulation(traj_filepath='conc_3.52_friction_0.01_temperature_2500.traj')"
   ]
  },
  {
   "cell_type": "code",
   "execution_count": null,
   "metadata": {},
   "outputs": [],
   "source": []
  },
  {
   "cell_type": "code",
   "execution_count": 1,
   "metadata": {},
   "outputs": [],
   "source": [
    "# from ase.io import Trajectory, write\n",
    "\n",
    "# traj = Trajectory('conc_3.52_friction_0.01_temperature_2500.traj')\n",
    "\n",
    "# diamond = traj[-1]\n",
    "# diamond.wrap()\n",
    "\n",
    "# write('diamond.xyz', diamond, format='xyz')"
   ]
  }
 ],
 "metadata": {
  "language_info": {
   "name": "python"
  }
 },
 "nbformat": 4,
 "nbformat_minor": 2
}
