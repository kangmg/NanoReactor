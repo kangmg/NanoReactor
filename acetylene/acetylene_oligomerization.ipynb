{
 "cells": [
  {
   "cell_type": "code",
   "execution_count": 1,
   "metadata": {},
   "outputs": [
    {
     "name": "stderr",
     "output_type": "stream",
     "text": [
      "/home/zeus/miniconda3/envs/cloudspace/lib/python3.10/site-packages/torchani-0.1.dev435+gd8bb081-py3.10-linux-x86_64.egg/torchani/__init__.py:61: UserWarning: Dependency not satisfied, torchani.data will not be available\n",
      "  warnings.warn(\"Dependency not satisfied, torchani.data will not be available\")\n"
     ]
    }
   ],
   "source": [
    "from nanoreactor import initial_system_builder, NanoReactor"
   ]
  },
  {
   "cell_type": "code",
   "execution_count": 2,
   "metadata": {},
   "outputs": [],
   "source": [
    "system_builder_param = {\n",
    "    'concentration': 0.25, # g/cc\n",
    "    'buffer_spacing_Ang': 1.5, # Angstrom\n",
    "    'num_molecules': 800,\n",
    "    'max_trials': 'auto',\n",
    "    'save': True,\n",
    "    'l_CC': 1.19506454,\n",
    "    'l_CH': 1.06274817,\n",
    "    'filename': 'auto' # xyz filepath e.g. './system.xyz'\n",
    "}\n",
    "\n",
    "initial_system_builder(**system_builder_param)"
   ]
  },
  {
   "cell_type": "code",
   "execution_count": 3,
   "metadata": {},
   "outputs": [
    {
     "name": "stdout",
     "output_type": "stream",
     "text": [
      "/system/conda/miniconda3/envs/cloudspace/lib/python3.10/site-packages/torchani-0.1.dev435+gd8bb081-py3.10-linux-x86_64.egg/torchani/resources/\n"
     ]
    }
   ],
   "source": [
    "params = {\n",
    "    'concentration': 0.25, # g/cc\n",
    "    'system_filepath': 'box_0.25[gcc-1]_molecules_800[molecule].xyz',\n",
    "    'temperature_K': 1600,\n",
    "    'time_step_fs': 0.5,\n",
    "    #'total_steps': 10**7,\n",
    "    'total_steps': 2 * 10**6,\n",
    "    'modeltype': 'ANI1xnr',\n",
    "    'friction': 0.01,\n",
    "    'logfile': 'auto', # '-' for stdout\n",
    "    'loginterval': 100,\n",
    "    'trajfile': 'auto',\n",
    "    'trajinterval': 100,\n",
    "    'logger': 'default',\n",
    "    #'optimizer': FIRE,\n",
    "    'optimize_geometry':False\n",
    "    }\n",
    "\n",
    "simulation_box = NanoReactor(**params)"
   ]
  },
  {
   "cell_type": "code",
   "execution_count": 4,
   "metadata": {},
   "outputs": [],
   "source": [
    "assert params['concentration'] == system_builder_param['concentration'], 'Re-check the concentration setting. It is very important.'"
   ]
  },
  {
   "cell_type": "code",
   "execution_count": 5,
   "metadata": {},
   "outputs": [
    {
     "name": "stdout",
     "output_type": "stream",
     "text": [
      "\n",
      "    ======================================================\n",
      "    System Info.\n",
      "    ------------------------------------------------------\n",
      "    N_molecules : 800\n",
      "    N_atoms     : 3200\n",
      "    Conc.       : 0.25  g/cc\n",
      "    Box Len.    : 5.170  nm\n",
      "    PBC         : [True, True, True]\n",
      "    ------------------------------------------------------\n",
      "    \n",
      "    ======================================================\n",
      "    Simulation Info.\n",
      "    ------------------------------------------------------\n",
      "    MLP model   : ANI1xnr\n",
      "    Temperature : 1600  K\n",
      "    Time Step   : 0.5  fs\n",
      "    Total Steps : 2000000 times\n",
      "    Sim. Time   : 1.000 ns\n",
      "    friction    : 0.01 1/fs\n",
      "    Device      : cuda\n",
      "    ------------------------------------------------------\n",
      "    \n",
      "    ======================================================\n",
      "    Results\n",
      "    ------------------------------------------------------\n",
      "    log interval: 100 steps\n",
      "    trj interval: 100 steps\n",
      "    logfile     : conc_0.25_friction_0.01_temperature_1600.log\n",
      "    trajfile    : conc_0.25_friction_0.01_temperature_1600.traj\n",
      "    ------------------------------------------------------\n"
     ]
    }
   ],
   "source": [
    "print(simulation_box.simulation_info())"
   ]
  },
  {
   "cell_type": "code",
   "execution_count": null,
   "metadata": {},
   "outputs": [],
   "source": [
    "simulation_box.run_simulation()"
   ]
  },
  {
   "cell_type": "code",
   "execution_count": null,
   "metadata": {},
   "outputs": [],
   "source": [
    "# simulation_box.continue_simulation(traj_filepath='')"
   ]
  },
  {
   "cell_type": "code",
   "execution_count": null,
   "metadata": {},
   "outputs": [],
   "source": []
  }
 ],
 "metadata": {
  "language_info": {
   "name": "python"
  }
 },
 "nbformat": 4,
 "nbformat_minor": 2
}
